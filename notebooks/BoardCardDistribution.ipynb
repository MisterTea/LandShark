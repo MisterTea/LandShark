{
 "cells": [
  {
   "cell_type": "code",
   "execution_count": 80,
   "metadata": {
    "collapsed": true
   },
   "outputs": [],
   "source": [
    "import numpy as np\n",
    "import scipy\n",
    "from scipy.stats import randint, cumfreq\n",
    "np.random.seed(1)"
   ]
  },
  {
   "cell_type": "code",
   "execution_count": 81,
   "metadata": {
    "collapsed": false
   },
   "outputs": [
    {
     "name": "stdout",
     "output_type": "stream",
     "text": [
      "[6 4 5 1]\n",
      "BOARD GAME DISTRIBUTION\n",
      "[  6.   4.   9.  13.   7.   6.  12.   9.   7.  11.   9.   6.  11.  10.   6.\n",
      "   8.  11.   4.   6.  14.   5.   8.  11.   7.]\n",
      "CARD GAME FIXED STOP DISTRIBUTION\n",
      "[  8.  12.   6.   9.   9.   8.   8.   8.   7.   8.   6.  11.  10.   8.  11.\n",
      "   7.   7.   5.   7.  15.   8.   5.  11.   6.]\n",
      "8.33333333333 5.38888888889\n",
      "Divergence: Ks_2sampResult(statistic=0.125, pvalue=0.9867794517653834)\n",
      "CARD GAME SHUFFLE CARD DISTRIBUTION\n",
      "[ 8330.  8357.  8312.  8327.  8161.  8293.  8350.  8310.  8425.  8410.\n",
      "  8407.  8379.  8386.  8321.  8344.  8304.  8305.  8254.  8318.  8207.\n",
      "  8424.  8363.  8397.  8316.]\n",
      "[ 1960.  1830.  1702.  1686.  1622.  1547.  1526.  1399.  1283.  1278.\n",
      "  1150.  1109.   977.   877.   799.   786.   707.   588.   528.   431.\n",
      "   410.   338.   240.   156.    75.     0.]\n",
      "[ 0.07838746  0.15157575  0.21964486  0.28707407  0.35194369  0.41381379\n",
      "  0.47484402  0.53079507  0.58210686  0.63321869  0.67921133  0.72356423\n",
      "  0.76263798  0.79771237  0.82966725  0.86110222  0.8893777   0.91289394\n",
      "  0.93401056  0.9512478   0.96764518  0.98116301  0.99076148  0.99700048\n",
      "  1.          1.        ]\n",
      "8333.33333333 3985.55555556\n",
      "Divergence: Ks_2sampResult(statistic=1.0, pvalue=8.8051854836893306e-12)\n",
      "Divergence: Ks_2sampResult(statistic=1.0, pvalue=8.8051854836893306e-12)\n"
     ]
    }
   ],
   "source": [
    "NUM_PLAYERS = 4\n",
    "NUM_CARDS = 24\n",
    "\n",
    "freq = np.zeros(NUM_CARDS)\n",
    "player_pos = np.zeros(NUM_PLAYERS, dtype=np.int)\n",
    "print(randint.rvs(1, 7, size=NUM_PLAYERS))\n",
    "\n",
    "for turn in range(50):\n",
    "    player_pos += randint.rvs(1, 7, size=NUM_PLAYERS)\n",
    "    player_pos += randint.rvs(1, 7, size=NUM_PLAYERS)\n",
    "    player_pos %= NUM_CARDS\n",
    "    for x in player_pos:\n",
    "        freq[x] += 1\n",
    "print(\"BOARD GAME DISTRIBUTION\")\n",
    "print(freq)\n",
    "board_game_freq = freq\n",
    "\n",
    "freq = np.zeros(NUM_CARDS)\n",
    "DECKS=1\n",
    "cards = np.arange(NUM_CARDS*DECKS) % NUM_CARDS\n",
    "on_card = NUM_CARDS*DECKS\n",
    "for turn in range(50):\n",
    "    for x in range(NUM_PLAYERS):\n",
    "        if on_card >= (NUM_CARDS//2)*DECKS:\n",
    "            on_card = 0\n",
    "            np.random.shuffle(cards)\n",
    "        freq[cards[on_card]] += 1\n",
    "        on_card += 1\n",
    "print(\"CARD GAME FIXED STOP DISTRIBUTION\")\n",
    "print(freq)\n",
    "print(np.mean(freq),np.var(freq))\n",
    "card_game_freq = freq\n",
    "\n",
    "print(\"Divergence:\",scipy.stats.ks_2samp(board_game_freq, freq))\n",
    "\n",
    "NUM_SHUFFLE_CARDS = 2\n",
    "freq = np.zeros(NUM_CARDS)\n",
    "cards = np.arange(NUM_CARDS + NUM_SHUFFLE_CARDS)\n",
    "on_card = 0\n",
    "np.random.shuffle(cards)\n",
    "cards_until_shuffle = np.zeros(NUM_CARDS+NUM_SHUFFLE_CARDS)\n",
    "\n",
    "for turn in range(50000):\n",
    "    for x in range(NUM_PLAYERS):\n",
    "        while cards[on_card] >= NUM_CARDS:\n",
    "            # Got a shufle card\n",
    "            cards_until_shuffle[on_card]+=1\n",
    "            on_card = 0\n",
    "            np.random.shuffle(cards)\n",
    "        freq[cards[on_card]] += 1\n",
    "        on_card += 1\n",
    "print(\"CARD GAME SHUFFLE CARD DISTRIBUTION\")\n",
    "print(freq)\n",
    "print(cards_until_shuffle)\n",
    "print(np.cumsum(cards_until_shuffle) / np.sum(cards_until_shuffle))\n",
    "print(np.mean(freq),np.var(freq))\n",
    "print(\"Divergence:\",scipy.stats.ks_2samp(board_game_freq, freq))\n",
    "print(\"Divergence:\",scipy.stats.ks_2samp(card_game_freq, freq))\n",
    "\n"
   ]
  },
  {
   "cell_type": "code",
   "execution_count": null,
   "metadata": {
    "collapsed": true
   },
   "outputs": [],
   "source": []
  },
  {
   "cell_type": "code",
   "execution_count": null,
   "metadata": {
    "collapsed": true
   },
   "outputs": [],
   "source": []
  }
 ],
 "metadata": {
  "kernelspec": {
   "display_name": "Python 3",
   "language": "python",
   "name": "python3"
  },
  "language_info": {
   "codemirror_mode": {
    "name": "ipython",
    "version": 3
   },
   "file_extension": ".py",
   "mimetype": "text/x-python",
   "name": "python",
   "nbconvert_exporter": "python",
   "pygments_lexer": "ipython3",
   "version": "3.6.1"
  }
 },
 "nbformat": 4,
 "nbformat_minor": 2
}
